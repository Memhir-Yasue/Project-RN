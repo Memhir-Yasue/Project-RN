{
 "cells": [
  {
   "cell_type": "code",
   "execution_count": 1,
   "metadata": {},
   "outputs": [],
   "source": [
    "import os\n",
    "import sys\n",
    "import json\n",
    "module_path = os.path.abspath(os.path.join('..'))\n",
    "if module_path not in sys.path:\n",
    "    sys.path.append(module_path)"
   ]
  },
  {
   "cell_type": "code",
   "execution_count": 2,
   "metadata": {},
   "outputs": [],
   "source": [
    "import plotly.graph_objects as go\n",
    "import networkx as nx\n",
    "import matplotlib.pyplot as plt\n",
    "import matplotlib.pyplot as plt\n",
    "from user_hub.user import User\n",
    "from user_hub import time_box"
   ]
  },
  {
   "cell_type": "code",
   "execution_count": 3,
   "metadata": {},
   "outputs": [
    {
     "name": "stdout",
     "output_type": "stream",
     "text": [
      "announcements\n",
      "blog\n",
      "RoastMe\n",
      "IAmA\n",
      "me_irl\n",
      "AskReddit\n",
      "thanosdidnothingwrong\n",
      "mildlyinfuriating\n"
     ]
    }
   ],
   "source": [
    "redditor = User(\"spez\")\n",
    "redditor.validate_user()\n",
    "redditor.get_visited_pages()\n",
    "visited, t_stamp, t_stamp_subreddit = redditor.return_user_attributes()\n",
    "edges = time_box.process_to_edges(t_stamp_subreddit)"
   ]
  },
  {
   "cell_type": "code",
   "execution_count": 4,
   "metadata": {},
   "outputs": [],
   "source": [
    "nodes = list(visited.keys()) + list(t_stamp.keys())\n",
    "G = nx.Graph()\n",
    "G.add_nodes_from(nodes)\n",
    "clean_edge = []\n",
    "for pair in edges:\n",
    "    if pair not in clean_edge:\n",
    "        clean_edge.append(pair)\n",
    "        \n",
    "G.add_edges_from(clean_edge)"
   ]
  },
  {
   "cell_type": "code",
   "execution_count": 5,
   "metadata": {},
   "outputs": [
    {
     "data": {
      "text/plain": [
       "[(1, 'announcements'),\n",
       " (1, 'RoastMe'),\n",
       " (22, 'announcements'),\n",
       " (22, 'IAmA'),\n",
       " (20, 'announcements'),\n",
       " (21, 'blog'),\n",
       " (21, 'announcements'),\n",
       " (21, 'IAmA'),\n",
       " (23, 'announcements'),\n",
       " (23, 'AskReddit'),\n",
       " (0, 'announcements'),\n",
       " (0, 'mildlyinfuriating'),\n",
       " (2, 'announcements'),\n",
       " (5, 'me_irl'),\n",
       " (19, 'announcements'),\n",
       " (17, 'announcements'),\n",
       " (18, 'announcements'),\n",
       " (6, 'thanosdidnothingwrong'),\n",
       " (6, 'announcements')]"
      ]
     },
     "execution_count": 5,
     "metadata": {},
     "output_type": "execute_result"
    }
   ],
   "source": [
    "clean_edge"
   ]
  },
  {
   "cell_type": "code",
   "execution_count": 6,
   "metadata": {},
   "outputs": [],
   "source": [
    "labels = {}\n",
    "for i in range(len(nodes)):\n",
    "    labels[i] = nodes[i]"
   ]
  },
  {
   "cell_type": "code",
   "execution_count": 7,
   "metadata": {},
   "outputs": [
    {
     "data": {
      "text/plain": [
       "{'announcements': 77,\n",
       " 'blog': 2,\n",
       " 'RoastMe': 1,\n",
       " 'IAmA': 16,\n",
       " 'me_irl': 1,\n",
       " 'AskReddit': 1,\n",
       " 'thanosdidnothingwrong': 1,\n",
       " 'mildlyinfuriating': 1}"
      ]
     },
     "execution_count": 7,
     "metadata": {},
     "output_type": "execute_result"
    }
   ],
   "source": [
    "visited"
   ]
  },
  {
   "cell_type": "code",
   "execution_count": 8,
   "metadata": {},
   "outputs": [],
   "source": [
    "# plt.figure(figsize=(10,10))\n",
    "# nx.draw(G, with_labels=True, node_size=500)"
   ]
  },
  {
   "cell_type": "code",
   "execution_count": 9,
   "metadata": {},
   "outputs": [
    {
     "data": {
      "text/plain": [
       "(151.89, 183.51)"
      ]
     },
     "execution_count": 9,
     "metadata": {},
     "output_type": "execute_result"
    }
   ],
   "source": [
    "locations = nx.nx_agraph.graphviz_layout(G)\n",
    "locations[0]"
   ]
  },
  {
   "cell_type": "code",
   "execution_count": 10,
   "metadata": {},
   "outputs": [
    {
     "data": {
      "text/plain": [
       "{'data': {'id': 'announcements',\n",
       "  'value': 'announcements',\n",
       "  'name': 'announcements'}}"
      ]
     },
     "execution_count": 10,
     "metadata": {},
     "output_type": "execute_result"
    }
   ],
   "source": [
    "elements = nx.readwrite.json_graph.cytoscape_data(G).get('elements').get('nodes')\n",
    "elements[0]"
   ]
  },
  {
   "cell_type": "code",
   "execution_count": 11,
   "metadata": {},
   "outputs": [
    {
     "data": {
      "text/plain": [
       "[{'id': 'announcements', 'value': 'announcements', 'name': 'announcements'},\n",
       " {'x': 151.89, 'y': 183.51}]"
      ]
     },
     "execution_count": 11,
     "metadata": {},
     "output_type": "execute_result"
    }
   ],
   "source": [
    "position_0 = {'place_holder':\n",
    "              {'x':locations[0][0], 'y':locations[0][1]}\n",
    "             }\n",
    "list(elements[0].values()) + list(position_0.values())"
   ]
  },
  {
   "cell_type": "code",
   "execution_count": 121,
   "metadata": {},
   "outputs": [],
   "source": [
    "# how to {'data': {'id': 'one', 'label': 'Node 1'}, \n",
    "#.        'position': {'x': 75, 'y': 75}},\n",
    "\n",
    "nodes = nx.readwrite.json_graph.cytoscape_data(G).get('elements').get('nodes')\n",
    "locations = nx.nx_agraph.graphviz_layout(G)\n",
    "locations = json.dumps(locations) # convert all keys to string\n",
    "locations = json.loads(locations) # convert stringized dict back to dict\n",
    "list_pair = []\n",
    "for i in range(len(nodes)):\n",
    "    node_name = nodes[i]['data']['id']\n",
    "    location = locations.get(node_name)\n",
    "    node = nodes[i]\n",
    "    formatted_node_info = {'data': {'id': node_name, 'label': node_name},\n",
    "                           'position': {'x':location[0], 'y':location[1]}}\n",
    "                           \n",
    "    list_pair.append(formatted_node_info)"
   ]
  },
  {
   "cell_type": "code",
   "execution_count": 128,
   "metadata": {},
   "outputs": [
    {
     "data": {
      "text/plain": [
       "{'data': {'source': '21', 'target': 'blog'}}"
      ]
     },
     "execution_count": 128,
     "metadata": {},
     "output_type": "execute_result"
    }
   ],
   "source": [
    "list_pair[25]"
   ]
  },
  {
   "cell_type": "code",
   "execution_count": 109,
   "metadata": {},
   "outputs": [],
   "source": [
    "# how to {'data': {'source': 'one', 'target': 'two'}}\n",
    "# TESTING\n",
    "clean_edge\n",
    "edge_connection = []\n",
    "for i in range(len(clean_edge)):\n",
    "    source = str(clean_edge[i][0])\n",
    "    target = str(clean_edge[i][1])\n",
    "    edge_connection.append({'data':{'source':source,\n",
    "                           'target':target}})"
   ]
  },
  {
   "cell_type": "code",
   "execution_count": 124,
   "metadata": {},
   "outputs": [],
   "source": [
    "# FINAL for EDGE connection\n",
    "for i in range(len(clean_edge)):\n",
    "    source = str(clean_edge[i][0])\n",
    "    target = str(clean_edge[i][1])\n",
    "    list_pair.append({'data':{'source':source,\n",
    "                           'target':target}})"
   ]
  },
  {
   "cell_type": "code",
   "execution_count": 125,
   "metadata": {},
   "outputs": [
    {
     "data": {
      "text/plain": [
       "[{'data': {'id': 'announcements', 'label': 'announcements'},\n",
       "  'position': {'x': 248.76, 'y': 179.83}},\n",
       " {'data': {'id': 'blog', 'label': 'blog'},\n",
       "  'position': {'x': 295.89, 'y': 348.63}},\n",
       " {'data': {'id': 'RoastMe', 'label': 'RoastMe'},\n",
       "  'position': {'x': 406.97, 'y': 254.84}},\n",
       " {'data': {'id': 'IAmA', 'label': 'IAmA'},\n",
       "  'position': {'x': 200.39, 'y': 333.04}},\n",
       " {'data': {'id': 'me_irl', 'label': 'me_irl'},\n",
       "  'position': {'x': 429.19, 'y': 325.64}},\n",
       " {'data': {'id': 'AskReddit', 'label': 'AskReddit'},\n",
       "  'position': {'x': 400.29, 'y': 86.332}},\n",
       " {'data': {'id': 'thanosdidnothingwrong', 'label': 'thanosdidnothingwrong'},\n",
       "  'position': {'x': 173.46, 'y': 18.0}},\n",
       " {'data': {'id': 'mildlyinfuriating', 'label': 'mildlyinfuriating'},\n",
       "  'position': {'x': 70.53, 'y': 189.31}},\n",
       " {'data': {'id': '1', 'label': '1'}, 'position': {'x': 328.02, 'y': 227.08}},\n",
       " {'data': {'id': '22', 'label': '22'}, 'position': {'x': 213.01, 'y': 256.67}},\n",
       " {'data': {'id': '20', 'label': '20'}, 'position': {'x': 189.69, 'y': 215.74}},\n",
       " {'data': {'id': '21', 'label': '21'}, 'position': {'x': 259.77, 'y': 273.25}},\n",
       " {'data': {'id': '23', 'label': '23'}, 'position': {'x': 333.64, 'y': 134.93}},\n",
       " {'data': {'id': '0', 'label': '0'}, 'position': {'x': 151.89, 'y': 183.51}},\n",
       " {'data': {'id': '2', 'label': '2'}, 'position': {'x': 311.3, 'y': 186.73}},\n",
       " {'data': {'id': '5', 'label': '5'}, 'position': {'x': 500.4, 'y': 315.0}},\n",
       " {'data': {'id': '19', 'label': '19'}, 'position': {'x': 186.55, 'y': 143.77}},\n",
       " {'data': {'id': '17', 'label': '17'}, 'position': {'x': 290.32, 'y': 111.05}},\n",
       " {'data': {'id': '18', 'label': '18'}, 'position': {'x': 251.15, 'y': 103.5}},\n",
       " {'data': {'id': '6', 'label': '6'}, 'position': {'x': 203.86, 'y': 93.673}},\n",
       " {'data': {'source': '1', 'target': 'announcements'}},\n",
       " {'data': {'source': '1', 'target': 'RoastMe'}},\n",
       " {'data': {'source': '22', 'target': 'announcements'}},\n",
       " {'data': {'source': '22', 'target': 'IAmA'}},\n",
       " {'data': {'source': '20', 'target': 'announcements'}},\n",
       " {'data': {'source': '21', 'target': 'blog'}},\n",
       " {'data': {'source': '21', 'target': 'announcements'}},\n",
       " {'data': {'source': '21', 'target': 'IAmA'}},\n",
       " {'data': {'source': '23', 'target': 'announcements'}},\n",
       " {'data': {'source': '23', 'target': 'AskReddit'}},\n",
       " {'data': {'source': '0', 'target': 'announcements'}},\n",
       " {'data': {'source': '0', 'target': 'mildlyinfuriating'}},\n",
       " {'data': {'source': '2', 'target': 'announcements'}},\n",
       " {'data': {'source': '5', 'target': 'me_irl'}},\n",
       " {'data': {'source': '19', 'target': 'announcements'}},\n",
       " {'data': {'source': '17', 'target': 'announcements'}},\n",
       " {'data': {'source': '18', 'target': 'announcements'}},\n",
       " {'data': {'source': '6', 'target': 'thanosdidnothingwrong'}},\n",
       " {'data': {'source': '6', 'target': 'announcements'}}]"
      ]
     },
     "execution_count": 125,
     "metadata": {},
     "output_type": "execute_result"
    }
   ],
   "source": [
    "list_pair"
   ]
  },
  {
   "cell_type": "code",
   "execution_count": 113,
   "metadata": {},
   "outputs": [
    {
     "data": {
      "text/plain": [
       "'announcements'"
      ]
     },
     "execution_count": 113,
     "metadata": {},
     "output_type": "execute_result"
    }
   ],
   "source": [
    "nodes[0]['data'].get('id')"
   ]
  },
  {
   "cell_type": "code",
   "execution_count": 82,
   "metadata": {},
   "outputs": [
    {
     "data": {
      "text/plain": [
       "'announcements'"
      ]
     },
     "execution_count": 82,
     "metadata": {},
     "output_type": "execute_result"
    }
   ],
   "source": [
    "nodes[0]['data'].get('name')"
   ]
  },
  {
   "cell_type": "code",
   "execution_count": null,
   "metadata": {},
   "outputs": [],
   "source": []
  }
 ],
 "metadata": {
  "kernelspec": {
   "display_name": "Python [conda env:.conda-Project-RN] *",
   "language": "python",
   "name": "conda-env-.conda-Project-RN-py"
  },
  "language_info": {
   "codemirror_mode": {
    "name": "ipython",
    "version": 3
   },
   "file_extension": ".py",
   "mimetype": "text/x-python",
   "name": "python",
   "nbconvert_exporter": "python",
   "pygments_lexer": "ipython3",
   "version": "3.7.5"
  }
 },
 "nbformat": 4,
 "nbformat_minor": 2
}
